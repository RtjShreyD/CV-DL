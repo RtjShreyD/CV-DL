{
  "nbformat": 4,
  "nbformat_minor": 0,
  "metadata": {
    "colab": {
      "name": "Montage.ipynb",
      "provenance": [],
      "collapsed_sections": [],
      "include_colab_link": true
    },
    "kernelspec": {
      "name": "python3",
      "display_name": "Python 3"
    }
  },
  "cells": [
    {
      "cell_type": "markdown",
      "metadata": {
        "id": "view-in-github",
        "colab_type": "text"
      },
      "source": [
        "<a href=\"https://colab.research.google.com/github/RtjShreyD/CV-DL/blob/master/Montage.ipynb\" target=\"_parent\"><img src=\"https://colab.research.google.com/assets/colab-badge.svg\" alt=\"Open In Colab\"/></a>"
      ]
    },
    {
      "cell_type": "code",
      "metadata": {
        "id": "8ueYbc2YjCBu",
        "colab_type": "code",
        "colab": {}
      },
      "source": [
        "# import the necessary packages\n",
        "import imutils\n",
        "from imutils import build_montages\n",
        "from imutils import paths\n",
        "import random\n",
        "import cv2\n",
        "from google.colab.patches import cv2_imshow\n",
        "import glob\n",
        "\n",
        "images = []\n",
        "for img in glob.glob(\"*.jpg\"): #Images exist in the curr directory, if other dir, give path befor *\n",
        "    n= cv2.imread(img)\n",
        "    n = cv2.resize(n, (200, 200))\n",
        "    images.append(n)\n",
        "    #cv2_imshow(n)"
      ],
      "execution_count": 0,
      "outputs": []
    },
    {
      "cell_type": "code",
      "metadata": {
        "id": "b00bA6tvnHXE",
        "colab_type": "code",
        "colab": {}
      },
      "source": [
        "# construct the montages for the images\n",
        "montages = build_montages(images, (100,100), (7, 3))\n",
        "\n",
        "# loop over the montages and display each of them\n",
        "for montage in montages:\n",
        "\tcv2_imshow( montage)\n",
        "\tcv2.waitKey(0)"
      ],
      "execution_count": 0,
      "outputs": []
    }
  ]
}