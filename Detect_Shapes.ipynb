{
  "nbformat": 4,
  "nbformat_minor": 0,
  "metadata": {
    "colab": {
      "name": "Detect Shapes.ipynb",
      "provenance": [],
      "include_colab_link": true
    },
    "kernelspec": {
      "name": "python3",
      "display_name": "Python 3"
    }
  },
  "cells": [
    {
      "cell_type": "markdown",
      "metadata": {
        "id": "view-in-github",
        "colab_type": "text"
      },
      "source": [
        "<a href=\"https://colab.research.google.com/github/RtjShreyD/CV-DL/blob/master/Detect_Shapes.ipynb\" target=\"_parent\"><img src=\"https://colab.research.google.com/assets/colab-badge.svg\" alt=\"Open In Colab\"/></a>"
      ]
    },
    {
      "cell_type": "code",
      "metadata": {
        "id": "9KmbFhoCflsA",
        "colab_type": "code",
        "colab": {}
      },
      "source": [
        "# import the necessary packages\n",
        "import numpy as np\n",
        "import imutils\n",
        "import cv2\n",
        "from google.colab.patches import cv2_imshow"
      ],
      "execution_count": 0,
      "outputs": []
    },
    {
      "cell_type": "code",
      "metadata": {
        "id": "c6fSv90aiFJV",
        "colab_type": "code",
        "outputId": "f233e05b-82a3-446b-f390-f528f42c921d",
        "colab": {
          "base_uri": "https://localhost:8080/",
          "height": 417
        }
      },
      "source": [
        "image = cv2.imread(\"shapes.png\")\n",
        "image = cv2.resize(image, (200, 200))\n",
        "cv2_imshow(image)\n",
        "\n",
        "# find all the 'black' shapes in the image\n",
        "lower = np.array([0, 0, 0])\n",
        "upper = np.array([15, 15, 15])\n",
        "shapeMask = cv2.inRange(image, lower, upper)\n",
        "\n",
        "cv2_imshow(shapeMask)"
      ],
      "execution_count": 0,
      "outputs": [
        {
          "output_type": "display_data",
          "data": {
            "image/png": "[encoded data removed]",
            "text/plain": [
              "<PIL.Image.Image image mode=RGB size=200x200 at 0x7F31BE546978>"
            ]
          },
          "metadata": {
            "tags": []
          }
        },
        {
          "output_type": "display_data",
          "data": {
            "image/png": "[encoded data removed]",
            "text/plain": [
              "<PIL.Image.Image image mode=L size=200x200 at 0x7F31BE546AC8>"
            ]
          },
          "metadata": {
            "tags": []
          }
        }
      ]
    },
    {
      "cell_type": "code",
      "metadata": {
        "id": "HBECvzqtilE_",
        "colab_type": "code",
        "outputId": "2200ddef-f256-44a1-df9b-96d5ec0b7794",
        "colab": {
          "base_uri": "https://localhost:8080/",
          "height": 434
        }
      },
      "source": [
        "# find the contours in the mask\n",
        "cnts = cv2.findContours(shapeMask.copy(), cv2.RETR_EXTERNAL,\n",
        "\tcv2.CHAIN_APPROX_SIMPLE)\n",
        "cnts = imutils.grab_contours(cnts)\n",
        "print(\"I found {} black shapes\".format(len(cnts)))\n",
        "cv2_imshow(shapeMask)\n",
        " \n",
        "# loop over the contours\n",
        "for c in cnts:\n",
        "\t# draw the contour and show it\n",
        "\tcv2.drawContours(image, [c], -1, (0, 255, 0), 2)\n",
        "\t\n",
        "cv2_imshow(image)"
      ],
      "execution_count": 0,
      "outputs": [
        {
          "output_type": "stream",
          "text": [
            "I found 6 black shapes\n"
          ],
          "name": "stdout"
        },
        {
          "output_type": "display_data",
          "data": {
            "image/png": "[encoded data removed]",
            "text/plain": [
              "<PIL.Image.Image image mode=L size=200x200 at 0x7F31BE4DB668>"
            ]
          },
          "metadata": {
            "tags": []
          }
        },
        {
          "output_type": "display_data",
          "data": {
            "image/png": "[encoded data removed]",
            "text/plain": [
              "<PIL.Image.Image image mode=RGB size=200x200 at 0x7F31BE4DB5C0>"
            ]
          },
          "metadata": {
            "tags": []
          }
        }
      ]
    }
  ]
}